{
 "cells": [
  {
   "cell_type": "code",
   "execution_count": 2,
   "metadata": {},
   "outputs": [],
   "source": [
    "import os \n",
    "import torch\n",
    "import torch.nn as nn\n",
    "import torch.nn.functional as F\n",
    "import numpy as np\n",
    "\n",
    "from torchvision import transforms\n",
    "from dataset import NYUDataset\n",
    "from custom_transforms import *\n",
    "\n",
    "import plot_utils\n",
    "from model_utils import *\n",
    "from plot_utils import *\n",
    "from nn_model import Net\n",
    "\n",
    "#3x640x480 in dataset,   CxWxH\n",
    "#480x640x3 for plotting, HxWxC\n",
    "#3x480x640 for pytorch,  CxHxW  \n",
    "\n",
    "device = 'cuda:0' if torch.cuda.is_available() else 'cpu'\n",
    "\n",
    "n_epochs = 20\n",
    "lr = 2e-5\n",
    "bs = 8\n",
    "sz = (320,240)\n",
    "seed = np.random.seed(1)\n",
    "mean, std = [0.485, 0.456, 0.406], [0.229, 0.224, 0.225]\n",
    "mean, std = torch.tensor(mean), torch.tensor(std)\n",
    "unnormalize = UnNormalizeImgBatch(mean, std)\n",
    "tfms = transforms.Compose([\n",
    "    ResizeImgAndDepth(sz),\n",
    "    RandomHorizontalFlip(),\n",
    "    ImgAndDepthToTensor(),\n",
    "    NormalizeImg(mean, std)\n",
    "])\n",
    "ds = NYUDataset('data/', tfms)\n",
    "dl = torch.utils.data.DataLoader(ds, bs, shuffle=True)\n",
    "train_loader, val_loader, test_loader = ds.create_split_loaders(bs, seed, tfms,0.1, 0.1,True)\n",
    "\n",
    "# i = 1\n",
    "# plot_utils.plot_image(get_unnormalized_ds_item(unnormalize, ds[i]))\n",
    "\n",
    "model = Net()\n",
    "model.to(device)\n",
    "output_dir = \"nyu_2e-5_8\"\n",
    "make_dir(output_dir)\n",
    "images_dir = os.path.join(output_dir,\"saved_images\")\n",
    "make_dir(images_dir)\n",
    "model.load_state_dict(torch.load(os.path.join(output_dir, 'checkpoint_19.pth.tar')))\n"
   ]
  },
  {
   "cell_type": "code",
   "execution_count": null,
   "metadata": {},
   "outputs": [],
   "source": []
  }
 ],
 "metadata": {
  "kernelspec": {
   "display_name": "Python 3",
   "language": "python",
   "name": "python3"
  },
  "language_info": {
   "codemirror_mode": {
    "name": "ipython",
    "version": 3
   },
   "file_extension": ".py",
   "mimetype": "text/x-python",
   "name": "python",
   "nbconvert_exporter": "python",
   "pygments_lexer": "ipython3",
   "version": "3.6.8"
  }
 },
 "nbformat": 4,
 "nbformat_minor": 2
}
